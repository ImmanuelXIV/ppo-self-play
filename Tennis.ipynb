{
 "cells": [
  {
   "cell_type": "markdown",
   "metadata": {},
   "source": [
    "# Reinforcement Learning | Multi-Agent RL | Self-Play | Proximal Policy Optimization Algorithm (PPO) agent | Unity Tennis environment | Collaboration and Competition\n",
    "\n",
    "---\n",
    "\n",
    "This repository, shows how to implement and train an actor-critic [PPO](https://arxiv.org/abs/1707.06347) (Proximal Policy Optimization) Reinforcement Learning agent to play Tennis against itself. The Unity simulation environment is called Tennis and rather similar to environments depicted [here](https://github.com/Unity-Technologies/ml-agents/blob/master/docs/Learning-Environment-Examples.md).\n",
    "\n",
    "In this README.md you'll see how to install dependencies and run the code on your own machine. To understand the learning algorithm PPO checkout the `Tennis.ipynb` notebook.\n",
    "\n",
    "**Why?** Reinforcement Learning (RL) is one of the most fascinating areas of Machine Learning! It is quite intuitive, because we use positive and negative feedback to learn tasks via interaction with the environment. The PPO algorithm, by Schulman et al. 2017, has been used at OpenAi to solve complex real-world tasks such as manipulating physical objects with a robot hand. Check out this [Learning Dexterity: Uncut](https://www.youtube.com/watch?time_continue=1&v=DKe8FumoD4E&feature=emb_logo) video, or the ones about simulated humanoid robots from their website [here](https://openai.com/blog/openai-baselines-ppo/) to get an idea! \n",
    "\n",
    "**What?** In this Tennis environment, two agents control rackets to bounce a ball over a net. If an agent hits the ball over the net, it receives a reward of +0.1. If an agent lets a ball hit the ground or hits the ball out of bounds, it receives a reward of -0.01. Thus, the goal of each agent is to keep the ball in play. This is a trained agent in the environment.\n",
    "\n",
    "<img src=\"imgs/tennis-self-play.gif\\\" width=\"450\" align=\"center\" title=\"Tennis Unity environment\">\n",
    "\n",
    "**How?** Checkout the `Tennis.ipynb` notebook to learn more about the PPO algorithm, and check the implementations in `ppo_agent.py`, `policy.py`. If you want to train an agent, or see a trained agent play tennis then `train.py`, and `watch_trained_agent.py` are the go-to files."
   ]
  },
  {
   "cell_type": "markdown",
   "metadata": {},
   "source": [
    "### 1. The Learning Algorithm\n",
    "\n",
    "The Proximal Policy Optimization [PPO](https://arxiv.org/abs/1707.06347) algorithm was developed by Schulmann et al. in 2017 at the company [OpenAI](https://openai.com/). The abstract reads as follows: \n",
    ">We propose a new family of policy gradient methods for reinforcement learning, which alternate between sampling data through interaction with the environment, and optimizing a \"surrogate\" objective function using stochastic gradient ascent. Whereas standard policy gradient methods perform one gradient update per data sample, we propose a novel objective function that enables multiple epochs of minibatch updates. The new methods, which we call proximal policy optimization (PPO), have some of the benefits of trust region policy optimization (TRPO), but they are much simpler to implement, more general, and have better sample complexity (empirically). Our experiments test PPO on a collection of benchmark tasks, including simulated robotic locomotion and Atari game playing, and we show that PPO outperforms other online policy gradient methods, and overall strikes a favorable balance between sample complexity, simplicity, and wall-time.\n",
    "\n",
    "This is the PPo algorithm (taken from [source](http://rail.eecs.berkeley.edu/deeprlcourse-fa17/f17docs/lecture_13_advanced_pg.pdf)). \n",
    "\n",
    "<img src=\"imgs/PPO-algorithm.png\" width=\"600\" align=\"center\" title=\"PPO algorithm\"/>\n",
    "\n",
    "The PPO computes a surrogate loss function (see above) without computing natural gradients and enables us to re-use previously collected trajectories from an older version of the same policy. For details please refer to the paper. In this notebook we use the following hyperparameters and model architecture. Refer to the code for more details.\n",
    "\n",
    "- SEED = 123\n",
    "- SEED = 0\n",
    "- LR = 5e-4\n",
    "- T_MAX_ROLLOUT = 1024\n",
    "- GAMMA = 0.999\n",
    "- TAU = 0.95\n",
    "- K_EPOCHS = 16\n",
    "- BATCH_SIZE = 64\n",
    "- EPSILON_PPO = 0.2\n",
    "- USE_ENTROPY = False\n",
    "- ENTROPY_WEIGHT = 0.01\n",
    "- GRADIENT_CLIPPING = 2 \n",
    "\n",
    "The chosen actor critic model architecture is as follows. The actor and crtic network share the same fully connected body and have 5957 free, trainable parameters.\n",
    "\n",
    "```python\n",
    "ActorCritic(\n",
    "  (fc1_body): Linear(in_features=24, out_features=64, bias=True)\n",
    "  (fc2_body): Linear(in_features=64, out_features=64, bias=True)\n",
    "  (fc3_actor): Linear(in_features=64, out_features=2, bias=True)\n",
    "  (fc3_critic): Linear(in_features=64, out_features=1, bias=True)\n",
    ")\n",
    "```"
   ]
  },
  {
   "cell_type": "markdown",
   "metadata": {},
   "source": [
    "### 2. Start the Environment\n",
    "\n",
    "We begin by importing the necessary packages.  If the code cell below returns an error, please revisit the project instructions to double-check that you have installed [Unity ML-Agents](https://github.com/Unity-Technologies/ml-agents/blob/master/docs/Installation.md) and [NumPy](http://www.numpy.org/)."
   ]
  },
  {
   "cell_type": "code",
   "execution_count": 1,
   "metadata": {},
   "outputs": [],
   "source": [
    "from unityagents import UnityEnvironment\n",
    "import numpy as np"
   ]
  },
  {
   "cell_type": "markdown",
   "metadata": {},
   "source": [
    "Next, we will start the environment!  **_Before running the code cell below_**, change the `file_name` parameter to match the location of the Unity environment that you downloaded.\n",
    "\n",
    "- **Mac**: `\"path/to/Tennis.app\"`\n",
    "- **Windows** (x86): `\"path/to/Tennis_Windows_x86/Tennis.exe\"`\n",
    "- **Windows** (x86_64): `\"path/to/Tennis_Windows_x86_64/Tennis.exe\"`\n",
    "- **Linux** (x86): `\"path/to/Tennis_Linux/Tennis.x86\"`\n",
    "- **Linux** (x86_64): `\"path/to/Tennis_Linux/Tennis.x86_64\"`\n",
    "- **Linux** (x86, headless): `\"path/to/Tennis_Linux_NoVis/Tennis.x86\"`\n",
    "- **Linux** (x86_64, headless): `\"path/to/Tennis_Linux_NoVis/Tennis.x86_64\"`\n",
    "\n",
    "For instance, if you are using a Mac, then you downloaded `Tennis.app`.  If this file is in the same folder as the notebook, then the line below should appear as follows:\n",
    "```\n",
    "env = UnityEnvironment(file_name=\"Tennis.app\")\n",
    "```"
   ]
  },
  {
   "cell_type": "code",
   "execution_count": 2,
   "metadata": {},
   "outputs": [
    {
     "name": "stderr",
     "output_type": "stream",
     "text": [
      "INFO:unityagents:\n",
      "'Academy' started successfully!\n",
      "Unity Academy name: Academy\n",
      "        Number of Brains: 1\n",
      "        Number of External Brains : 1\n",
      "        Lesson number : 0\n",
      "        Reset Parameters :\n",
      "\t\t\n",
      "Unity brain name: TennisBrain\n",
      "        Number of Visual Observations (per agent): 0\n",
      "        Vector Observation space type: continuous\n",
      "        Vector Observation space size (per agent): 8\n",
      "        Number of stacked Vector Observation: 3\n",
      "        Vector Action space type: continuous\n",
      "        Vector Action space size (per agent): 2\n",
      "        Vector Action descriptions: , \n"
     ]
    }
   ],
   "source": [
    "env = UnityEnvironment(file_name=\"Tennis.app\")"
   ]
  },
  {
   "cell_type": "markdown",
   "metadata": {},
   "source": [
    "Environments contain **_brains_** which are responsible for deciding the actions of their associated agents. Here we check for the first brain available, and set it as the default brain we will be controlling from Python."
   ]
  },
  {
   "cell_type": "code",
   "execution_count": 3,
   "metadata": {},
   "outputs": [],
   "source": [
    "# get the default brain\n",
    "brain_name = env.brain_names[0]\n",
    "brain = env.brains[brain_name]"
   ]
  },
  {
   "cell_type": "markdown",
   "metadata": {},
   "source": [
    "### 3. Examine the State and Action Spaces\n",
    "\n",
    "In this environment, two agents control rackets to bounce a ball over a net. If an agent hits the ball over the net, it receives a reward of +0.1.  If an agent lets a ball hit the ground or hits the ball out of bounds, it receives a reward of -0.01.  Thus, the goal of each agent is to keep the ball in play.\n",
    "\n",
    "The observation space consists of 8 variables corresponding to the position and velocity of the ball and racket. Two continuous actions are available, corresponding to movement toward (or away from) the net, and jumping. \n",
    "\n",
    "Run the code cell below to print some information about the environment."
   ]
  },
  {
   "cell_type": "code",
   "execution_count": 4,
   "metadata": {},
   "outputs": [
    {
     "name": "stdout",
     "output_type": "stream",
     "text": [
      "Number of agents: 2\n",
      "Size of each action: 2\n",
      "There are 2 agents. Each observes a state with length: 24\n",
      "The state for the first agent looks like: [ 0.          0.          0.          0.          0.          0.\n",
      "  0.          0.          0.          0.          0.          0.\n",
      "  0.          0.          0.          0.         -6.65278625 -1.5\n",
      " -0.          0.          6.83172083  6.         -0.          0.        ]\n"
     ]
    }
   ],
   "source": [
    "# reset the environment\n",
    "env_info = env.reset(train_mode=True)[brain_name]\n",
    "\n",
    "# number of agents \n",
    "num_agents = len(env_info.agents)\n",
    "print('Number of agents:', num_agents)\n",
    "\n",
    "# size of each action\n",
    "action_size = brain.vector_action_space_size\n",
    "print('Size of each action:', action_size)\n",
    "\n",
    "# examine the state space \n",
    "states = env_info.vector_observations\n",
    "state_size = states.shape[1]\n",
    "print('There are {} agents. Each observes a state with length: {}'.format(states.shape[0], state_size))\n",
    "print('The state for the first agent looks like:', states[0])"
   ]
  },
  {
   "cell_type": "markdown",
   "metadata": {},
   "source": [
    "### 4. Take Random Actions in the Environment\n",
    "\n",
    "In the next code cell, you will learn how to use the Python API to control the agents and receive feedback from the environment.\n",
    "\n",
    "Once this cell is executed, you will watch the agents' performance, if they select actions at random with each time step.  A window should pop up that allows you to observe the agents.\n",
    "\n",
    "Of course, as part of the project, you'll have to change the code so that the agents are able to use their experiences to gradually choose better actions when interacting with the environment!"
   ]
  },
  {
   "cell_type": "code",
   "execution_count": 5,
   "metadata": {},
   "outputs": [
    {
     "data": {
      "text/plain": [
       "\"\\nfor i in range(1, 6):                                      # play game for 5 episodes\\n    env_info = env.reset(train_mode=False)[brain_name]     # reset the environment    \\n    states = env_info.vector_observations                  # get the current state (for each agent)\\n    scores = np.zeros(num_agents)                          # initialize the score (for each agent)\\n    t = 0\\n    \\n    while True:\\n        actions = np.random.randn(num_agents, action_size) # select an action (for each agent)\\n        actions = np.clip(actions, -1, 1)                  # all actions between -1 and 1\\n        env_info = env.step(actions)[brain_name]           # send all actions to tne environment\\n        next_states = env_info.vector_observations         # get next state (for each agent)\\n        rewards = env_info.rewards                         # get reward (for each agent)\\n        dones = env_info.local_done                        # see if episode finished\\n        scores += env_info.rewards                         # update the score (for each agent)\\n        states = next_states                               # roll over states to next time step\\n        t += 1\\n        if np.any(dones):                                  # exit loop if episode finished\\n            print('Espisode finished after {} time steps.'.format(t))\\n            break\\n    print('Score (max over agents) from episode {}: {:.3f}'.format(i, np.max(scores)))\\nenv.close()\\n\""
      ]
     },
     "execution_count": 5,
     "metadata": {},
     "output_type": "execute_result"
    }
   ],
   "source": [
    "\"\"\"\n",
    "for i in range(1, 6):                                      # play game for 5 episodes\n",
    "    env_info = env.reset(train_mode=False)[brain_name]     # reset the environment    \n",
    "    states = env_info.vector_observations                  # get the current state (for each agent)\n",
    "    scores = np.zeros(num_agents)                          # initialize the score (for each agent)\n",
    "    t = 0\n",
    "    \n",
    "    while True:\n",
    "        actions = np.random.randn(num_agents, action_size) # select an action (for each agent)\n",
    "        actions = np.clip(actions, -1, 1)                  # all actions between -1 and 1\n",
    "        env_info = env.step(actions)[brain_name]           # send all actions to tne environment\n",
    "        next_states = env_info.vector_observations         # get next state (for each agent)\n",
    "        rewards = env_info.rewards                         # get reward (for each agent)\n",
    "        dones = env_info.local_done                        # see if episode finished\n",
    "        scores += env_info.rewards                         # update the score (for each agent)\n",
    "        states = next_states                               # roll over states to next time step\n",
    "        t += 1\n",
    "        if np.any(dones):                                  # exit loop if episode finished\n",
    "            print('Espisode finished after {} time steps.'.format(t))\n",
    "            break\n",
    "    print('Score (max over agents) from episode {}: {:.3f}'.format(i, np.max(scores)))\n",
    "env.close()\n",
    "\"\"\""
   ]
  },
  {
   "cell_type": "markdown",
   "metadata": {},
   "source": [
    "### 5. Train a PPO Agent\n",
    "\n",
    "I'd recommend that you open the files `ppo_agent.py`, and `policy.py` in different tabs and walk through the code step by step to gain a deeper understanding. Training a PPO agent from scratch to solving the environment took approximately 02:00h on a 2.7 GHz Intel Core i5 (2015). Restart the kernel and only run the code underneath. If you just want to see a trained agent playing tennis, then jump to section 6."
   ]
  },
  {
   "cell_type": "code",
   "execution_count": 1,
   "metadata": {},
   "outputs": [
    {
     "name": "stderr",
     "output_type": "stream",
     "text": [
      "INFO:unityagents:\n",
      "'Academy' started successfully!\n",
      "Unity Academy name: Academy\n",
      "        Number of Brains: 1\n",
      "        Number of External Brains : 1\n",
      "        Lesson number : 0\n",
      "        Reset Parameters :\n",
      "\t\t\n",
      "Unity brain name: TennisBrain\n",
      "        Number of Visual Observations (per agent): 0\n",
      "        Vector Observation space type: continuous\n",
      "        Vector Observation space size (per agent): 8\n",
      "        Number of stacked Vector Observation: 3\n",
      "        Vector Action space type: continuous\n",
      "        Vector Action space size (per agent): 2\n",
      "        Vector Action descriptions: , \n"
     ]
    },
    {
     "name": "stdout",
     "output_type": "stream",
     "text": [
      "Start Training...\n",
      "Number of trainable actor critic model parameters:  5957\n",
      "10/2000 Episode. Current score: 0.0000 Avg last 100 score: 0.0390\n",
      "20/2000 Episode. Current score: 0.0000 Avg last 100 score: 0.0295\n",
      "30/2000 Episode. Current score: 0.0000 Avg last 100 score: 0.0260\n",
      "40/2000 Episode. Current score: 0.0000 Avg last 100 score: 0.0293\n",
      "50/2000 Episode. Current score: 0.0000 Avg last 100 score: 0.0254\n",
      "60/2000 Episode. Current score: 0.0000 Avg last 100 score: 0.0258\n",
      "70/2000 Episode. Current score: 0.0000 Avg last 100 score: 0.0290\n",
      "80/2000 Episode. Current score: 0.0000 Avg last 100 score: 0.0339\n",
      "90/2000 Episode. Current score: 0.0000 Avg last 100 score: 0.0344\n",
      "100/2000 Episode. Current score: 0.0000 Avg last 100 score: 0.0358\n",
      "110/2000 Episode. Current score: 0.0000 Avg last 100 score: 0.0358\n",
      "120/2000 Episode. Current score: 0.1000 Avg last 100 score: 0.0408\n",
      "130/2000 Episode. Current score: 0.0000 Avg last 100 score: 0.0447\n",
      "140/2000 Episode. Current score: 0.0900 Avg last 100 score: 0.0447\n",
      "150/2000 Episode. Current score: 0.1000 Avg last 100 score: 0.0487\n",
      "160/2000 Episode. Current score: 0.0000 Avg last 100 score: 0.0489\n",
      "170/2000 Episode. Current score: 0.1000 Avg last 100 score: 0.0491\n",
      "180/2000 Episode. Current score: 0.1000 Avg last 100 score: 0.0471\n",
      "190/2000 Episode. Current score: 0.0000 Avg last 100 score: 0.0461\n",
      "200/2000 Episode. Current score: 0.0900 Avg last 100 score: 0.0442\n",
      "210/2000 Episode. Current score: 0.0000 Avg last 100 score: 0.0442\n",
      "220/2000 Episode. Current score: 0.0000 Avg last 100 score: 0.0410\n",
      "230/2000 Episode. Current score: 0.0000 Avg last 100 score: 0.0381\n",
      "240/2000 Episode. Current score: 0.0900 Avg last 100 score: 0.0408\n",
      "250/2000 Episode. Current score: 0.1000 Avg last 100 score: 0.0398\n",
      "260/2000 Episode. Current score: 0.0000 Avg last 100 score: 0.0396\n",
      "270/2000 Episode. Current score: 0.1000 Avg last 100 score: 0.0394\n",
      "280/2000 Episode. Current score: 0.0000 Avg last 100 score: 0.0415\n",
      "290/2000 Episode. Current score: 0.0000 Avg last 100 score: 0.0416\n",
      "300/2000 Episode. Current score: 0.1000 Avg last 100 score: 0.0447\n",
      "310/2000 Episode. Current score: 0.0000 Avg last 100 score: 0.0437\n",
      "320/2000 Episode. Current score: 0.0000 Avg last 100 score: 0.0478\n",
      "330/2000 Episode. Current score: 0.0000 Avg last 100 score: 0.0459\n",
      "340/2000 Episode. Current score: 0.1000 Avg last 100 score: 0.0433\n",
      "350/2000 Episode. Current score: 0.1000 Avg last 100 score: 0.0461\n",
      "360/2000 Episode. Current score: 0.1000 Avg last 100 score: 0.0471\n",
      "370/2000 Episode. Current score: 0.1000 Avg last 100 score: 0.0502\n",
      "380/2000 Episode. Current score: 0.0000 Avg last 100 score: 0.0482\n",
      "390/2000 Episode. Current score: 0.0000 Avg last 100 score: 0.0492\n",
      "400/2000 Episode. Current score: 0.0900 Avg last 100 score: 0.0480\n",
      "410/2000 Episode. Current score: 0.1000 Avg last 100 score: 0.0490\n",
      "420/2000 Episode. Current score: 0.0000 Avg last 100 score: 0.0450\n",
      "430/2000 Episode. Current score: 0.1000 Avg last 100 score: 0.0509\n",
      "440/2000 Episode. Current score: 0.1000 Avg last 100 score: 0.0508\n",
      "450/2000 Episode. Current score: 0.0000 Avg last 100 score: 0.0499\n",
      "460/2000 Episode. Current score: 0.0000 Avg last 100 score: 0.0481\n",
      "470/2000 Episode. Current score: 0.0000 Avg last 100 score: 0.0431\n",
      "480/2000 Episode. Current score: 0.0000 Avg last 100 score: 0.0420\n",
      "490/2000 Episode. Current score: 0.0000 Avg last 100 score: 0.0438\n",
      "500/2000 Episode. Current score: 0.0000 Avg last 100 score: 0.0420\n",
      "510/2000 Episode. Current score: 0.0000 Avg last 100 score: 0.0410\n",
      "520/2000 Episode. Current score: 0.1000 Avg last 100 score: 0.0429\n",
      "530/2000 Episode. Current score: 0.1000 Avg last 100 score: 0.0419\n",
      "540/2000 Episode. Current score: 0.1000 Avg last 100 score: 0.0428\n",
      "550/2000 Episode. Current score: 0.0000 Avg last 100 score: 0.0409\n",
      "560/2000 Episode. Current score: 0.0000 Avg last 100 score: 0.0437\n",
      "570/2000 Episode. Current score: 0.0000 Avg last 100 score: 0.0467\n",
      "580/2000 Episode. Current score: 0.0000 Avg last 100 score: 0.0509\n",
      "590/2000 Episode. Current score: 0.1000 Avg last 100 score: 0.0511\n",
      "600/2000 Episode. Current score: 0.0000 Avg last 100 score: 0.0491\n",
      "610/2000 Episode. Current score: 0.1000 Avg last 100 score: 0.0531\n",
      "620/2000 Episode. Current score: 0.2000 Avg last 100 score: 0.0542\n",
      "630/2000 Episode. Current score: 0.1000 Avg last 100 score: 0.0551\n",
      "640/2000 Episode. Current score: 0.1000 Avg last 100 score: 0.0563\n",
      "650/2000 Episode. Current score: 0.1000 Avg last 100 score: 0.0570\n",
      "660/2000 Episode. Current score: 0.1000 Avg last 100 score: 0.0561\n",
      "670/2000 Episode. Current score: 0.1000 Avg last 100 score: 0.0551\n",
      "680/2000 Episode. Current score: 0.0000 Avg last 100 score: 0.0548\n",
      "690/2000 Episode. Current score: 0.1000 Avg last 100 score: 0.0567\n",
      "700/2000 Episode. Current score: 0.0000 Avg last 100 score: 0.0617\n",
      "710/2000 Episode. Current score: 0.1000 Avg last 100 score: 0.0618\n",
      "720/2000 Episode. Current score: 0.0000 Avg last 100 score: 0.0607\n",
      "730/2000 Episode. Current score: 0.0900 Avg last 100 score: 0.0598\n",
      "740/2000 Episode. Current score: 0.1000 Avg last 100 score: 0.0587\n",
      "750/2000 Episode. Current score: 0.1000 Avg last 100 score: 0.0590\n",
      "760/2000 Episode. Current score: 0.0000 Avg last 100 score: 0.0591\n",
      "770/2000 Episode. Current score: 0.1000 Avg last 100 score: 0.0602\n",
      "780/2000 Episode. Current score: 0.1000 Avg last 100 score: 0.0614\n",
      "790/2000 Episode. Current score: 0.1000 Avg last 100 score: 0.0575\n",
      "800/2000 Episode. Current score: 0.1000 Avg last 100 score: 0.0573\n",
      "810/2000 Episode. Current score: 0.2000 Avg last 100 score: 0.0560\n",
      "820/2000 Episode. Current score: 0.0000 Avg last 100 score: 0.0582\n",
      "830/2000 Episode. Current score: 0.2000 Avg last 100 score: 0.0629\n",
      "840/2000 Episode. Current score: 0.1000 Avg last 100 score: 0.0629\n",
      "850/2000 Episode. Current score: 0.0000 Avg last 100 score: 0.0649\n",
      "860/2000 Episode. Current score: 0.0000 Avg last 100 score: 0.0658\n",
      "870/2000 Episode. Current score: 0.1000 Avg last 100 score: 0.0648\n",
      "880/2000 Episode. Current score: 0.0000 Avg last 100 score: 0.0628\n",
      "890/2000 Episode. Current score: 0.1000 Avg last 100 score: 0.0658\n",
      "900/2000 Episode. Current score: 0.2000 Avg last 100 score: 0.0679\n",
      "910/2000 Episode. Current score: 0.0900 Avg last 100 score: 0.0650\n",
      "920/2000 Episode. Current score: 0.0000 Avg last 100 score: 0.0638\n",
      "930/2000 Episode. Current score: 0.1000 Avg last 100 score: 0.0581\n",
      "940/2000 Episode. Current score: 0.0000 Avg last 100 score: 0.0572\n",
      "950/2000 Episode. Current score: 0.1000 Avg last 100 score: 0.0572\n",
      "960/2000 Episode. Current score: 0.1000 Avg last 100 score: 0.0642\n",
      "970/2000 Episode. Current score: 0.2000 Avg last 100 score: 0.0701\n",
      "980/2000 Episode. Current score: 0.0000 Avg last 100 score: 0.0732\n",
      "990/2000 Episode. Current score: 0.1000 Avg last 100 score: 0.0792\n",
      "1000/2000 Episode. Current score: 0.0000 Avg last 100 score: 0.0783\n",
      "1010/2000 Episode. Current score: 0.0000 Avg last 100 score: 0.0854\n",
      "1020/2000 Episode. Current score: 0.1000 Avg last 100 score: 0.0886\n",
      "1030/2000 Episode. Current score: 0.1000 Avg last 100 score: 0.0957\n",
      "1040/2000 Episode. Current score: 0.0900 Avg last 100 score: 0.0986\n",
      "1050/2000 Episode. Current score: 0.1000 Avg last 100 score: 0.1036\n",
      "1060/2000 Episode. Current score: 0.2000 Avg last 100 score: 0.1077\n",
      "1070/2000 Episode. Current score: 0.0000 Avg last 100 score: 0.1097\n",
      "1080/2000 Episode. Current score: 0.5000 Avg last 100 score: 0.1137\n",
      "1090/2000 Episode. Current score: 0.2000 Avg last 100 score: 0.1137\n",
      "1100/2000 Episode. Current score: 0.1000 Avg last 100 score: 0.1236\n",
      "1110/2000 Episode. Current score: 0.3900 Avg last 100 score: 0.1336\n",
      "1120/2000 Episode. Current score: 0.0000 Avg last 100 score: 0.1446\n",
      "1130/2000 Episode. Current score: 0.1000 Avg last 100 score: 0.1566\n",
      "1140/2000 Episode. Current score: 0.1000 Avg last 100 score: 0.1677\n",
      "1150/2000 Episode. Current score: 0.1000 Avg last 100 score: 0.1767\n",
      "1160/2000 Episode. Current score: 0.0000 Avg last 100 score: 0.1846\n",
      "1170/2000 Episode. Current score: 0.1000 Avg last 100 score: 0.1866\n",
      "1180/2000 Episode. Current score: 0.0000 Avg last 100 score: 0.1866\n",
      "1190/2000 Episode. Current score: 0.9000 Avg last 100 score: 0.1944\n",
      "1200/2000 Episode. Current score: 0.3000 Avg last 100 score: 0.1974\n",
      "1210/2000 Episode. Current score: 0.8000 Avg last 100 score: 0.2244\n",
      "1220/2000 Episode. Current score: 0.1000 Avg last 100 score: 0.2334\n",
      "1230/2000 Episode. Current score: 0.7000 Avg last 100 score: 0.2314\n",
      "1240/2000 Episode. Current score: 0.0900 Avg last 100 score: 0.2343\n",
      "1250/2000 Episode. Current score: 0.4000 Avg last 100 score: 0.2332\n",
      "1260/2000 Episode. Current score: 0.0000 Avg last 100 score: 0.2222\n",
      "1270/2000 Episode. Current score: 0.1000 Avg last 100 score: 0.2252\n",
      "1280/2000 Episode. Current score: 0.1000 Avg last 100 score: 0.2242\n",
      "1290/2000 Episode. Current score: 0.2000 Avg last 100 score: 0.2224\n",
      "1300/2000 Episode. Current score: 0.1000 Avg last 100 score: 0.2285\n",
      "1310/2000 Episode. Current score: 0.1000 Avg last 100 score: 0.2025\n",
      "1320/2000 Episode. Current score: 0.1000 Avg last 100 score: 0.1955\n",
      "1330/2000 Episode. Current score: 0.1000 Avg last 100 score: 0.2014\n",
      "1340/2000 Episode. Current score: 0.0000 Avg last 100 score: 0.2135\n",
      "1350/2000 Episode. Current score: 0.8000 Avg last 100 score: 0.2405\n",
      "1360/2000 Episode. Current score: 0.4000 Avg last 100 score: 0.2625\n",
      "1370/2000 Episode. Current score: 0.1000 Avg last 100 score: 0.2736\n",
      "1380/2000 Episode. Current score: 0.0000 Avg last 100 score: 0.2955\n",
      "1390/2000 Episode. Current score: 0.1000 Avg last 100 score: 0.3285\n",
      "1400/2000 Episode. Current score: 0.6900 Avg last 100 score: 0.3303\n",
      "1410/2000 Episode. Current score: 0.9000 Avg last 100 score: 0.3493\n",
      "1420/2000 Episode. Current score: 0.0900 Avg last 100 score: 0.3452\n",
      "1430/2000 Episode. Current score: 0.2000 Avg last 100 score: 0.3542\n",
      "1440/2000 Episode. Current score: 0.2000 Avg last 100 score: 0.3511\n",
      "1450/2000 Episode. Current score: 0.3000 Avg last 100 score: 0.3490\n",
      "1460/2000 Episode. Current score: 1.2000 Avg last 100 score: 0.3411\n",
      "1470/2000 Episode. Current score: 0.1000 Avg last 100 score: 0.3371\n",
      "1480/2000 Episode. Current score: 0.4000 Avg last 100 score: 0.3421\n",
      "1490/2000 Episode. Current score: 0.2000 Avg last 100 score: 0.3651\n",
      "1500/2000 Episode. Current score: 0.5000 Avg last 100 score: 0.3953\n",
      "1510/2000 Episode. Current score: 0.0900 Avg last 100 score: 0.3963\n",
      "1520/2000 Episode. Current score: 0.4000 Avg last 100 score: 0.4744\n",
      "Environment solved after 1524 episodes. Avg last 100 score: 0.51655\n",
      "\n",
      "Training finished.\n"
     ]
    }
   ],
   "source": [
    "from unityagents import UnityEnvironment\n",
    "from collections import deque\n",
    "from ppo_agent import Agent\n",
    "import numpy as np\n",
    "import torch\n",
    "import pandas as pd\n",
    "\n",
    "\n",
    "\n",
    "# start unity environment\n",
    "env = UnityEnvironment(file_name=\"Tennis.app\")\n",
    "brain_name = env.brain_names[0]\n",
    "brain = env.brains[brain_name]\n",
    "env_info = env.reset(train_mode=True)[brain_name]\n",
    "\n",
    "state_size = env_info.vector_observations.shape[1]\n",
    "action_size = brain.vector_action_space_size\n",
    "number_of_agents = len(env_info.agents)\n",
    "\n",
    "print_every = 10\n",
    "\n",
    "\n",
    "\n",
    "def run_ppo(env, brain_name, agent, num_episodes=2000):\n",
    "    scores = []\n",
    "    scores_window = deque(maxlen=100)\n",
    "\n",
    "    for i_episode in range(1, num_episodes+1):\n",
    "        agent.step(env, brain_name)\n",
    "        max_score = agent.act(env, brain_name)\n",
    "        scores.append(max_score)\n",
    "        scores_window.append(max_score)\n",
    "\n",
    "        print('\\r{}/{} Episode. Current score: {:.4f} Avg last 100 score: {:.4f}'.\\\n",
    "            format(i_episode, num_episodes, max_score, np.mean(scores_window)), end=\"\")\n",
    "        \n",
    "        if i_episode % print_every == 0:\n",
    "            print('\\r{}/{} Episode. Current score: {:.4f} Avg last 100 score: {:.4f}'.\\\n",
    "                format(i_episode, num_episodes, max_score, np.mean(scores_window)))\n",
    "\n",
    "        if np.mean(scores_window) > 0.5:\n",
    "            agent.save()\n",
    "            print('\\rEnvironment solved after {} episodes. Avg last 100 score: {:.4f}'.\\\n",
    "                format(i_episode, np.mean(scores_window)))\n",
    "            break\n",
    "\n",
    "    return scores\n",
    "\n",
    "\n",
    "print(\"Start Training...\")\n",
    "agent = Agent(state_size, action_size, load_pretrained=False)\n",
    "scores = run_ppo(env, brain_name, agent)\n",
    "print(\"\\nTraining finished.\")"
   ]
  },
  {
   "cell_type": "code",
   "execution_count": 2,
   "metadata": {},
   "outputs": [
    {
     "name": "stdout",
     "output_type": "stream",
     "text": [
      "The first time a score >= 0.5 was reached at episode 1079.\n",
      "Max score reached: 2.7000\n"
     ]
    },
    {
     "data": {
      "image/png": "[encoded data removed]",
      "text/plain": [
       "<Figure size 432x288 with 1 Axes>"
      ]
     },
     "metadata": {
      "needs_background": "light"
     },
     "output_type": "display_data"
    }
   ],
   "source": [
    "import matplotlib.pyplot as plt\n",
    "%matplotlib inline\n",
    "\n",
    "scores = np.array(scores)\n",
    "x = np.where(scores >= 0.5)\n",
    "print('The first time a score >= 0.5 was reached at episode {}.'.format(x[0][0]))\n",
    "print('Max score reached: {:.4f}'.format(np.amax(scores)))\n",
    "\n",
    "df = pd.DataFrame({\n",
    "    'x': np.arange(len(scores)),\n",
    "    'y': scores, \n",
    "    })\n",
    "rolling_mean = df.y.rolling(window=50).mean()\n",
    "\n",
    "#img_path =\"imgs/scores_plot.png\"\n",
    "fig = plt.figure()\n",
    "ax = fig.add_subplot(111)\n",
    "plt.plot(df.x, df.y, label='Scores')\n",
    "plt.plot(df.x, rolling_mean, label='Moving avg', color='orange')\n",
    "plt.ylabel('Scores')\n",
    "plt.xlabel('Episodes')\n",
    "plt.legend()\n",
    "plt.show()\n",
    "#fig.savefig(fname=img_path)\n",
    "#print('\\nPlot saved to {}.'.format(img_path))"
   ]
  },
  {
   "cell_type": "markdown",
   "metadata": {},
   "source": [
    "### 6. Watch a trained Agent\n",
    "\n",
    "Restart the kernel and run the code cell below to load a trained agent and run it in the environment."
   ]
  },
  {
   "cell_type": "code",
   "execution_count": 1,
   "metadata": {},
   "outputs": [
    {
     "name": "stderr",
     "output_type": "stream",
     "text": [
      "INFO:unityagents:\n",
      "'Academy' started successfully!\n",
      "Unity Academy name: Academy\n",
      "        Number of Brains: 1\n",
      "        Number of External Brains : 1\n",
      "        Lesson number : 0\n",
      "        Reset Parameters :\n",
      "\t\t\n",
      "Unity brain name: TennisBrain\n",
      "        Number of Visual Observations (per agent): 0\n",
      "        Vector Observation space type: continuous\n",
      "        Vector Observation space size (per agent): 8\n",
      "        Number of stacked Vector Observation: 3\n",
      "        Vector Action space type: continuous\n",
      "        Vector Action space size (per agent): 2\n",
      "        Vector Action descriptions: , \n"
     ]
    },
    {
     "name": "stdout",
     "output_type": "stream",
     "text": [
      "Number of trainable actor critic model parameters:  5957\n",
      "Loading pre-trained actor critic model from checkpoint.\n",
      "Episode 1 finished. Scores reached: [0.70000001 0.69000001]\n",
      "Episode 2 finished. Scores reached: [1.49000002 1.60000002]\n"
     ]
    }
   ],
   "source": [
    "import numpy as np\n",
    "import torch\n",
    "from unityagents import UnityEnvironment\n",
    "from ppo_agent import Agent\n",
    "\n",
    "\n",
    "# start unity environment\n",
    "env = UnityEnvironment(file_name=\"Tennis.app\")\n",
    "brain_name = env.brain_names[0]\n",
    "brain = env.brains[brain_name]\n",
    "env_info = env.reset(train_mode=True)[brain_name]\n",
    "state_size = env_info.vector_observations.shape[1]\n",
    "action_size = brain.vector_action_space_size\n",
    "\n",
    "agent = Agent(state_size, action_size, load_pretrained=True)\n",
    "num_episodes = 2\n",
    "\n",
    "for i_episode in range(1, num_episodes+1):\n",
    "    env_info = env.reset(train_mode=False)[brain_name]\n",
    "    states = env_info.vector_observations\n",
    "    states1 = states[0]\n",
    "    states2 = states[1]\n",
    "    scores = np.zeros(2)\n",
    "    agent.ac_model.eval()\n",
    "\n",
    "    while True:\n",
    "        with torch.no_grad():\n",
    "            # self-play: same actor critic model is used for two players\n",
    "            actions1, _, _, _ = agent.ac_model(states1)\n",
    "            actions2, _, _, _ = agent.ac_model(states2)\n",
    "        actions = torch.cat((actions1, actions2), dim=0)\n",
    "        env_info = env.step([actions.cpu().numpy()])[brain_name]\n",
    "        next_states = env_info.vector_observations\n",
    "        dones = env_info.local_done\n",
    "        scores += env_info.rewards\n",
    "        states = next_states\n",
    "        states1 = states[0]\n",
    "        states2 = states[1]\n",
    "\n",
    "        if np.any(dones):\n",
    "            print('Episode {} finished. Scores reached: {}'.format(i_episode, scores))\n",
    "            break\n",
    "env.close()"
   ]
  },
  {
   "cell_type": "markdown",
   "metadata": {},
   "source": [
    "### 7. Ideas for future work\n",
    "\n",
    "\n",
    "To reach better results one can:\n",
    "\n",
    "- do extensive hyper parameter search e.g. using larger T_MAX_ROLLOUT, K_EPOCHS, and BATCH_SIZE\n",
    "- test the influence of the (USE_ENTROPY = True) term\n",
    "- use a different model architecture with more and deeper layers, e.g. even different networks for the actor and critic\n",
    "- run code on a GPU (e.g. with the headless version in the cloud)\n",
    "- utilize parallel training \n",
    "- more simulation time might yield better results\n"
   ]
  },
  {
   "cell_type": "markdown",
   "metadata": {},
   "source": [
    "### 8. Credit\n",
    "\n",
    "This notebook is a project submission for the [Udacity Deep Reinforcement Learning Nanodegree](https://www.udacity.com/course/deep-reinforcement-learning-nanodegree--nd893). If you are interested to learn more about Deep Reinforcement Learning, I can highly recommend it! My contribution lays mainly in section 1, 5, 6, 7, and corresponding code files: `train.py`, `ppo_agent.py`, `policy.py` , and `watch_trained_agent.py`.\n",
    "\n",
    "Thanks and shoutout to [Jeremi Kaczmarczyk](https://github.com/jknthn), [Andrei Li](https://github.com/andreiliphd), and especially to [ShangtongZhang](https://github.com/ShangtongZhang). Parts of this code is based on their work!"
   ]
  },
  {
   "cell_type": "code",
   "execution_count": null,
   "metadata": {},
   "outputs": [],
   "source": []
  }
 ],
 "metadata": {
  "kernelspec": {
   "display_name": "Python 3",
   "language": "python",
   "name": "python3"
  },
  "language_info": {
   "codemirror_mode": {
    "name": "ipython",
    "version": 3
   },
   "file_extension": ".py",
   "mimetype": "text/x-python",
   "name": "python",
   "nbconvert_exporter": "python",
   "pygments_lexer": "ipython3",
   "version": "3.6.7"
  }
 },
 "nbformat": 4,
 "nbformat_minor": 2
}
